{
 "cells": [
  {
   "cell_type": "markdown",
   "id": "66d09444",
   "metadata": {},
   "source": [
    "**Analysis 1:**"
   ]
  },
  {
   "cell_type": "markdown",
   "id": "45e63a5f",
   "metadata": {},
   "source": [
    "Research question: I want to investigate the relationship between in the past three months, how often people have participated in group exercise and how many close friends do they have?"
   ]
  },
  {
   "cell_type": "markdown",
   "id": "dbc3deb6",
   "metadata": {},
   "source": [
    "Variables：\n",
    "\n",
    "The variales are “Frequency of participation in group exercise” and \"Number of close friends\". The reason why I choose these variables is because I think social support has a positive impact on mental health and well-being, if the frequency for a people to participate in group ecercise, the more likely those people will have more close friends.\n",
    "\n",
    "I think the Scatter Plot might e useful. I'll Use the frequency of participation in group exercise as the x-axis and the number of close friends as the y-axis, each point represents a participant. The scatter plot is suitable for assessing the correlation and trends between the variables. If there is a positive correlation, the points in the plot will cluster around an upward-sloping line; if there is no correlation, the distribution of points will be more scattered."
   ]
  },
  {
   "cell_type": "markdown",
   "id": "b9616abb",
   "metadata": {},
   "source": [
    "The analysis I plan to perform:\n",
    "\n",
    "Use Linear Regression Analysis with the model $$ y = \\beta_0 + \\beta_1 x + \\epsilon $$, after the calculation if $\\beta_1$ is positive and statistically significant, this would suggest a positive association between group exercise frequency and the number of close friends.\n"
   ]
  },
  {
   "cell_type": "markdown",
   "id": "492b028b",
   "metadata": {},
   "source": [
    "Hypothesis:\n",
    "\n",
    "Null Hypothesis ($H_0$): There is no sigmnificant relationship between the frequency of group exercise participation and the number of close friends.\n",
    "\n",
    "Alternative Hypothesis ($H_A$): There is a significant positive relationship between group exercise frequency and the number of close friends\n",
    "\n"
   ]
  },
  {
   "cell_type": "markdown",
   "id": "b6887c19",
   "metadata": {},
   "source": [
    "Expected Outcome and Relevance to Answering the Research Question：\n",
    "\n",
    "If the analysis shows a positive, statistically significant $\\beta_1$：This would support the idea that individuals who frequently participate in group exercises tend to have more close friends, suggesting that group activities may contribute to stronger social networks.\n",
    "\n",
    "If the analysis shows no significant association，this would indicate that group exercise frequency alone might not substantially impact friendship levels, and other social or personal factors may play a more influential role.\n",
    "\n",
    "This analysis will help us see if how often people join group workouts can actually hint at how many close friends they have. It’ll give us some insight into the potential social benefits of group exercise, and show us if getting active together can help people build friendships and feel more connected to their community."
   ]
  },
  {
   "cell_type": "markdown",
   "id": "4419d5a2",
   "metadata": {},
   "source": [
    "**Analysis 2:**"
   ]
  },
  {
   "cell_type": "markdown",
   "id": "129c8274",
   "metadata": {},
   "source": [
    "Research question:\n",
    "I want to investigate in the sample, what is the average weight of the participants? Is it higher in specific groups with mental health disabilities (such as depression)?"
   ]
  },
  {
   "cell_type": "markdown",
   "id": "140840a7",
   "metadata": {},
   "source": [
    "Variables：\n",
    "\n",
    "The variables are \"Weight\" and \"Mental Health Disability\". Mental Health Disability is a categorical variable which can be divided by \"yes\"(have mental health disability) and \"no\". I choose these two variables because I think weight is a common indicator of health and at most time it can reflect the physical condition of a person. The relationship between the two can reveal the link between mental health and physical health.\n",
    "\n",
    "I will choose the Box Plot. The box plot can effectively compare the weight distribution between participants with and without mental health disabilities and clearly displaying the median, quartiles, and range of data for each group. It helps identify any potential outliers in the weight distribution."
   ]
  },
  {
   "cell_type": "markdown",
   "id": "66d77465",
   "metadata": {},
   "source": [
    "The analysis I plan to perform:\n",
    "\n",
    "I will apply the T-test to compare the difference in average weight between participants with and without mental health disability. Then set the Null Hypothesis ($H_0$): There is no significant difference in the average weight between participants with mental health disabilities and those without.\n",
    "\n",
    "Alternative Hypothesis ($H_A$): The average weight of participants with mental health disabilities is higher than that of participants without mental health disabilities.\n",
    "\n",
    "\n",
    "Then calculate the mean and standard deviation for both groups, and then apply the t-test formula to obtain the t-value. Next, calculate the corresponding p-value to assess the statistical significance of the observed difference in average weight."
   ]
  },
  {
   "cell_type": "markdown",
   "id": "8048c08f",
   "metadata": {},
   "source": [
    "Expected Outcome and Relevance to Answering the Research Question：\n",
    "\n",
    "In this investigation, I expect that the average weight of participants with mental health disabilities will exceed that of participants without mental health disabilities. If p-value less than 0.05, this result supports my hypothesis and suggests that mental health issues may affect individuals' lifestyles, leading to higher weight. If p-value greater than or equal to 0.05, this result may imply that lifestyle, dietary habits, or other socioeconomic factors play a more crucial role in weight management.\n",
    "\n",
    "\n",
    "\n",
    "\n",
    "\n",
    "\n"
   ]
  },
  {
   "cell_type": "markdown",
   "id": "7c30fca9",
   "metadata": {},
   "source": [
    "**Analysis 3:**"
   ]
  },
  {
   "cell_type": "markdown",
   "id": "a3d0c2fc",
   "metadata": {},
   "source": [
    "Research question: I want to explore is there a relationship between COVID-19 vaccination status and whether or not do they wear a mask in public?"
   ]
  },
  {
   "cell_type": "markdown",
   "id": "43ef362f",
   "metadata": {},
   "source": [
    "Variables: The variables here are “COVID-19 vaccination status（Vaccinated or not vaccinated）” and \"the frequncy of wearing mask in public\". I chose these two variables because I think both this two ways are preventing COVID-19 and getting vaccinated is better at preventing infection than wearing a mask.\n",
    "\n",
    "I'll choose the Bar Plot. Show two vaccination states, vaccinated and unvaccinated on the x-axis and the y-axis shows the distribution of wearing masks or not. Use a stacked bar plot can observe the overall proportions of individuals wearing and not wearing masks under each vaccination status.\n"
   ]
  },
  {
   "cell_type": "markdown",
   "id": "a9f39746",
   "metadata": {},
   "source": [
    "The analysis I plan to perform:\n",
    "\n",
    "In this investigation I will use hypothesis testing as the analysis method to compare the mask-wearing behavior of individuals under different vaccination statuses.\n",
    "\n",
    "Null Hypothesis ($H_0$): There is no significant difference in vaccination status between individuals who wear masks or not.\n",
    "\n",
    "Alternative Hypothesis ($H_A$): The proportion of vaccinated individuals is higher among those who do who wear masks compared to those who do."
   ]
  },
  {
   "cell_type": "markdown",
   "id": "3215cea4",
   "metadata": {},
   "source": [
    "Expected Outcome and Relevance to Answering the Research Question： \n",
    "\n",
    "I expect to see the more people who do not wear mask have vaccinated.\n",
    "\n",
    "If p-value is less than 0.05, this suggests that the proportion of vaccinated individuals among those who do not wear masks is significantly higher than that among those who wear masks.\n",
    "\n",
    "If p-value is greater than or equal to 0.05, indicating that there may not be a significant relationship between vaccination status and mask-wearing behavior."
   ]
  }
 ],
 "metadata": {
  "kernelspec": {
   "display_name": "Python 3 (ipykernel)",
   "language": "python",
   "name": "python3"
  },
  "language_info": {
   "codemirror_mode": {
    "name": "ipython",
    "version": 3
   },
   "file_extension": ".py",
   "mimetype": "text/x-python",
   "name": "python",
   "nbconvert_exporter": "python",
   "pygments_lexer": "ipython3",
   "version": "3.11.6"
  }
 },
 "nbformat": 4,
 "nbformat_minor": 5
}
